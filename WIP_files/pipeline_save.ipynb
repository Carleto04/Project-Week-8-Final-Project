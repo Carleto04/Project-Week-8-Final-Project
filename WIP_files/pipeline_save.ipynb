{
 "cells": [
  {
   "cell_type": "code",
   "execution_count": null,
   "metadata": {},
   "outputs": [],
   "source": [
    "# import dataset to train models\n",
    "data = pd.read_csv('../Data/val.txt', sep=';', names=['content', 'sentiment'])\n",
    "\n",
    "# assign each sentiment to a numeric value\n",
    "vals_to_replace = {'sadness': 1, 'love': 5, 'anger': 0, 'joy': 4, 'fear': 2, 'surprise': 3}\n",
    "data['sent_num'] = data.sentiment.map(vals_to_replace)\n",
    "\n"
   ]
  },
  {
   "cell_type": "code",
   "execution_count": 38,
   "metadata": {},
   "outputs": [],
   "source": [
    "#import libraries\n",
    "import pandas as pd\n",
    "import re\n",
    "import nltk\n",
    "from nltk.corpus import stopwords\n",
    "from nltk.tokenize import word_tokenize\n",
    "from nltk.stem import SnowballStemmer, WordNetLemmatizer\n",
    "from sklearn.model_selection import train_test_split\n",
    "from sklearn.feature_extraction.text import TfidfVectorizer\n",
    "from sklearn.linear_model import LogisticRegression\n",
    "from sklearn.metrics import accuracy_score\n",
    "from sklearn.svm import LinearSVC\n",
    "\n",
    "def text_preproc(text):\n",
    "    # auxiliar function to delete stopwords\n",
    "    def stopword_del(sentence):\n",
    "        stopwords_list = stopwords.words(\"english\")\n",
    "        word_tokens = word_tokenize(sentence.lower())\n",
    "        tokens_without_sw = [word for word in word_tokens if not word in stopwords_list]\n",
    "        str1 = ' '.join(tokens_without_sw)\n",
    "        return str1\n",
    "\n",
    "    # auxiliar function to remove a pattern defined by a regular expression \n",
    "    def remove_by_regex(tweet, regexp):\n",
    "            return re.sub(regexp, '', tweet)\n",
    "\n",
    "    # 3 specific cleaning functions to remove numbers, url's and special characters\n",
    "    def remove_numbers(tweet):\n",
    "        return remove_by_regex(tweet, re.compile(r\"[1234567890]\"))\n",
    "\n",
    "    def remove_url(tweet):\n",
    "        return remove_by_regex(tweet, re.compile(r\"http.?://[^\\s]+[\\s]?\"))\n",
    "\n",
    "    def remove_special_char(tweet):\n",
    "        return re.sub(r\"[^a-zA-Z0-9 ]\", \"\", tweet) #add space placeholder\n",
    "\n",
    "    # general cleaning function to do it all at once\n",
    "    def clean_up(tweet):\n",
    "        tweet = remove_numbers(tweet)\n",
    "        tweet = remove_url(tweet)\n",
    "        tweet = remove_special_char(tweet)\n",
    "        return tweet.lower().strip()\n",
    "\n",
    "    \n",
    "    #apply previously defined functions all at once\n",
    "    text = stopword_del(text)\n",
    "    text = clean_up(text)\n",
    "    df = pd.DataFrame(data={'content': text}, index=[0])\n",
    "    \n",
    "    #stem the words in the sentences and delete too-large-whitespaces\n",
    "    stemmer = SnowballStemmer(\"english\")\n",
    "    df[\"content_stemmed\"] = stemmer.stem(text)\n",
    "    df[\"content_stemmed\"] = [' '.join(text.split())]\n",
    "\n",
    "    #convert the words in sentences to a new dataframe of vectors\n",
    "    vectorizer = TfidfVectorizer()\n",
    "    content_vect = vectorizer.fit_transform(df[\"content_stemmed\"])\n",
    "    vector_df = pd.DataFrame.sparse.from_spmatrix(content_vect.tocoo(), columns = vectorizer.get_feature_names())\n",
    "    \n",
    "    return vector_df"
   ]
  },
  {
   "cell_type": "code",
   "execution_count": 37,
   "metadata": {},
   "outputs": [
    {
     "name": "stdout",
     "output_type": "stream",
     "text": [
      "0    way good\n",
      "Name: content_stemmed, dtype: object\n",
      "       good       way\n",
      "0  0.707107  0.707107\n"
     ]
    }
   ],
   "source": [
    "text_preproc(\"by the way you are good\")"
   ]
  },
  {
   "cell_type": "code",
   "execution_count": 42,
   "metadata": {},
   "outputs": [
    {
     "data": {
      "text/html": [
       "<div>\n",
       "<style scoped>\n",
       "    .dataframe tbody tr th:only-of-type {\n",
       "        vertical-align: middle;\n",
       "    }\n",
       "\n",
       "    .dataframe tbody tr th {\n",
       "        vertical-align: top;\n",
       "    }\n",
       "\n",
       "    .dataframe thead th {\n",
       "        text-align: right;\n",
       "    }\n",
       "</style>\n",
       "<table border=\"1\" class=\"dataframe\">\n",
       "  <thead>\n",
       "    <tr style=\"text-align: right;\">\n",
       "      <th></th>\n",
       "      <th>fine</th>\n",
       "      <th>thanks</th>\n",
       "    </tr>\n",
       "  </thead>\n",
       "  <tbody>\n",
       "    <tr>\n",
       "      <th>0</th>\n",
       "      <td>0.707107</td>\n",
       "      <td>0.707107</td>\n",
       "    </tr>\n",
       "  </tbody>\n",
       "</table>\n",
       "</div>"
      ],
      "text/plain": [
       "       fine    thanks\n",
       "0  0.707107  0.707107"
      ]
     },
     "execution_count": 42,
     "metadata": {},
     "output_type": "execute_result"
    }
   ],
   "source": [
    "x = text_preproc(\"I am doing fine thanks\")"
   ]
  },
  {
   "cell_type": "code",
   "execution_count": 43,
   "metadata": {},
   "outputs": [
    {
     "ename": "NameError",
     "evalue": "name 'emotion_detect_model' is not defined",
     "output_type": "error",
     "traceback": [
      "\u001b[1;31m---------------------------------------------------------------------------\u001b[0m",
      "\u001b[1;31mNameError\u001b[0m                                 Traceback (most recent call last)",
      "\u001b[1;32m<ipython-input-43-dbf605074ed4>\u001b[0m in \u001b[0;36m<module>\u001b[1;34m\u001b[0m\n\u001b[0;32m      1\u001b[0m \u001b[1;32mimport\u001b[0m \u001b[0mpickle\u001b[0m\u001b[1;33m\u001b[0m\u001b[1;33m\u001b[0m\u001b[0m\n\u001b[1;32m----> 2\u001b[1;33m \u001b[0mmodel\u001b[0m \u001b[1;33m=\u001b[0m \u001b[0mpickle\u001b[0m\u001b[1;33m.\u001b[0m\u001b[0mload\u001b[0m\u001b[1;33m(\u001b[0m\u001b[0mopen\u001b[0m\u001b[1;33m(\u001b[0m\u001b[0memotion_detect_model\u001b[0m\u001b[1;33m.\u001b[0m\u001b[0msav\u001b[0m\u001b[1;33m,\u001b[0m \u001b[1;34m'rb'\u001b[0m\u001b[1;33m)\u001b[0m\u001b[1;33m)\u001b[0m\u001b[1;33m\u001b[0m\u001b[1;33m\u001b[0m\u001b[0m\n\u001b[0m\u001b[0;32m      3\u001b[0m \u001b[0mmodel\u001b[0m\u001b[1;33m.\u001b[0m\u001b[0mpredict\u001b[0m\u001b[1;33m(\u001b[0m\u001b[0mx\u001b[0m\u001b[1;33m)\u001b[0m\u001b[1;33m\u001b[0m\u001b[1;33m\u001b[0m\u001b[0m\n",
      "\u001b[1;31mNameError\u001b[0m: name 'emotion_detect_model' is not defined"
     ]
    }
   ],
   "source": [
    "import pickle\n",
    "model = pickle.load(open(emotion_detect_model.sav, 'rb'))\n",
    "model.predict(x)"
   ]
  },
  {
   "cell_type": "code",
   "execution_count": null,
   "metadata": {},
   "outputs": [],
   "source": []
  }
 ],
 "metadata": {
  "kernelspec": {
   "display_name": "Python 3",
   "language": "python",
   "name": "python3"
  },
  "language_info": {
   "codemirror_mode": {
    "name": "ipython",
    "version": 3
   },
   "file_extension": ".py",
   "mimetype": "text/x-python",
   "name": "python",
   "nbconvert_exporter": "python",
   "pygments_lexer": "ipython3",
   "version": "3.8.3"
  }
 },
 "nbformat": 4,
 "nbformat_minor": 4
}
