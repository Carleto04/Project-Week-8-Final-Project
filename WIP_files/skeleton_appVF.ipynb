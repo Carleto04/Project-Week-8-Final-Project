{
 "cells": [
  {
   "cell_type": "markdown",
   "metadata": {},
   "source": [
    "# Libraries"
   ]
  },
  {
   "cell_type": "code",
   "execution_count": 1,
   "metadata": {},
   "outputs": [],
   "source": [
    "import random\n",
    "from text_cleaner import text_preproc\n",
    "import pandas as pd\n",
    "from nltk.sentiment.vader import SentimentIntensityAnalyzer\n",
    "from track_recommender import recommender\n",
    "import pickle\n",
    "model = pickle.load(open(\"emotion_detect_model.sav\", 'rb'))"
   ]
  },
  {
   "cell_type": "markdown",
   "metadata": {},
   "source": [
    "# Lists"
   ]
  },
  {
   "cell_type": "code",
   "execution_count": 2,
   "metadata": {},
   "outputs": [],
   "source": [
    "# greetings list\n",
    "starting_q = [\"Why do you answer that way\", \"How are you today\", \"How is your week going\", \"What have you done today\", \"What word would you choose for today\", \"If I say hey, you say...\", \"Do you want to play a game\", \"What is your plan today\"]\n",
    "question = random.choice(starting_q)\n",
    "\n",
    "# sentiments list\n",
    "positive_lst = ['yes', 'fine', 'good', 'excellent', 'awesome', 'amazing', 'great', 'positive', 'agree', 'agreed', 'absolutely','accepted','acclaimed','accomplish','accomplishment', 'achievement', 'active', 'admire', 'adorable', 'adventure', 'affirmative', 'affluent', 'agree', 'agreeable', 'amazing', 'angelic', 'appealing', 'approve', 'attractive', 'awesome', 'beaming', 'beautiful','believe','beneficial','bliss','bountiful', 'bounty', 'brave','bravo', 'brilliant', 'bubbly', 'calm', 'celebrated', 'certain','champ','champion','charming','cheery','choice','classic','classical', 'clean', 'commend', 'composed', 'congratulation', 'constant', 'cool', 'courageous', 'creative', 'cute', 'dazzling', 'delight', 'delightful', 'distinguished', 'divine', 'earnest', 'easy', 'ecstatic', 'effective', 'effervescent', 'efficient', 'effortless','electrifying','elegant','enchanting', 'encouraging', 'endorsed', 'energetic', 'energized', 'engaging', 'enthusiastic', 'essential', 'esteemed', 'excellent', 'exciting', 'exquisite', 'fabulous', 'familiar', 'famous', 'fantastic', 'favorable', 'fetching', 'fine', 'fitting', 'flourishing', 'fortunate', 'free', 'fresh', 'friendly', 'fun', 'funny', 'generous', 'genius', 'genuine', 'giving', 'glamorous', 'glowing', 'good', 'gorgeous', 'graceful', 'great', 'green', 'grin', 'growing', 'handsome', 'happy', 'harmonious', 'healing', 'healthy', 'hearty', 'heavenly', 'honest', 'honorable', 'honored', 'hug', 'idea', 'ideal', 'imaginative', 'imagine', 'impressive', 'independent', 'innovate', 'innovative', 'inventive', 'jovial', 'joy', 'jubilant', 'keen', 'kind', 'laugh', 'legendary', 'light', 'lively', 'lovely', 'lucid', 'lucky', 'luminous', 'marvelous', 'masterful', 'meaningful', 'merit', 'meritorious', 'miraculous', 'motivating', 'moving', 'natural', 'nice', 'novel', 'nurturing', 'nutritious', 'okay', 'one-hundred percent', '100%', 'open', 'optimistic', 'paradise', 'perfect', 'phenomenal', 'pleasant', 'pleasurable', 'plentiful', 'poised', 'polished', 'popular', 'positive', 'powerful', 'prepared', 'pretty', 'principled', 'productive', 'progress', 'prominent', 'protected', 'proud', 'quality', 'quick', 'ready', 'reassuring', 'refined', 'refreshing', 'rejoice', 'reliable', 'remarkable', 'resounding', 'respected', 'restored', 'reward', 'rewarding', 'right', 'robust', 'safe', 'satisfactory', 'secure', 'seemly', 'simple', 'skilled', 'skillful', 'smile', 'soulful', 'sparkling', 'special', 'spirited', 'spiritual', 'stirring', 'stunning', 'stupendous', 'success', 'successful', 'sunny', 'super', 'superb', 'supporting', 'surprising', 'terrific', 'thorough', 'thrilling', 'thriving', 'tops', 'tranquil', 'transformative', 'transforming', 'trusting', 'truthful', 'unreal', 'unwavering', 'up', 'upbeat', 'upright', 'upstanding', 'valued', 'vibrant', 'victorious', 'victory', 'vigorous','virtuous', 'vital', 'vivacious', 'welcome', 'well', 'whole', 'wholesome', 'willing', 'wonderful', 'wondrous', 'worthy', 'wow', 'yes', 'yummy', 'zeal', 'zealous']\n",
    "negative_lst = ['no', 'bad', 'worse', 'worst', 'evil', 'devil', 'negative', 'sucks', 'loss', 'abominable', 'aching', 'afflicted', 'affraid', 'aggressive', 'agonized', 'alarmed', 'alienated', 'alone', 'angry', 'anguish', 'annoyed', 'anxious', 'appalled', 'bad', 'bitter', 'boiling', 'bored', 'betrayed', 'ashamed', 'abnormal', 'cold', 'cowardly', 'cross', 'crushed', 'complaining', 'cheated', 'confused', 'crappy', 'dejected', 'depressed', 'deprived', 'desolate', 'despair', 'desperate', 'despicable', 'detestable', 'diminished', 'disappointed', 'discouraged', 'disgusting', 'disillusioned', 'disinterested', 'dismayed', 'dissatisfied', 'distressed', 'distrustful', 'dominated', 'doubtful', 'dull', 'embarrassed', 'empty', 'enraged', 'evil', 'excluded', 'exiled', 'fatigued', 'fearful', 'forced', 'frightened', 'frustrated', 'fuming', 'grief', 'grieved', 'guilty', 'hateful', 'heartbroken', 'helpless', 'hesitant', 'hostile', 'humiliated', 'hurt', 'despair', 'incapable', 'incensed', 'indecisive', 'indifferent', 'indignant', 'inferior', 'inflamed', 'infuriated', 'injured', 'insensitive', 'indelicate', 'insulting', 'irritated', 'lifeless', 'lonely', 'lost', 'lousy', 'liar', 'lame', 'livid', 'menaced', 'miserable', 'misgiving', 'mournful', 'misunderstood', 'manipulated', 'nervous', 'neutral', 'nonchalant', 'negated', 'offended', 'offensive', 'objected', 'overwhelmed', 'obstructed', 'pained', 'panic', 'paralyzed', 'pathetic', 'perplexed', 'pessimistic', 'powerless', 'preoccupied', 'provoked', 'quaking', 'questioned', 'rejected', 'repugnant', 'resentful', 'reserved', 'restless', 'sad', 'scared', 'shaky', 'shy', 'skeptical', 'sore', 'sorrowful', 'stupefied', 'sulky', 'suspicious', 'tearful', 'tense', 'terrible', 'terrified', 'threatened', 'timid', 'tormented', 'tortured', 'tragic', 'unbelieving', 'uncertain', 'uneasy', 'unhappy', 'unpleasant', 'unsure', 'upset', 'useless', 'unloved', 'unimportant', 'unconnected', 'victimized', 'worthless', 'worthiness', 'wary', 'weary', 'woeful', 'worried', 'wronged']\n",
    "\n",
    "# user sentiment today\n",
    "user_sent = []\n",
    "user_sent2 = []\n",
    "sentiment_lst = ['anger', 'sadness', 'fear', 'surprise', 'joy', 'love']\n",
    "vals_to_replace = {0:'anger', 1:'sadness', 2:'fear', 3:'surprise', 4:'joy', 5:'love'}"
   ]
  },
  {
   "cell_type": "markdown",
   "metadata": {},
   "source": [
    "# Greetings"
   ]
  },
  {
   "cell_type": "code",
   "execution_count": 3,
   "metadata": {},
   "outputs": [
    {
     "name": "stdout",
     "output_type": "stream",
     "text": [
      "Hello, what is your name? bla\n",
      "Hello Bla\n"
     ]
    }
   ],
   "source": [
    "# define username\n",
    "user_name = input(\"Hello, what is your name? \").capitalize()\n",
    "print(f'Hello {user_name}')"
   ]
  },
  {
   "cell_type": "code",
   "execution_count": 4,
   "metadata": {},
   "outputs": [
    {
     "name": "stdout",
     "output_type": "stream",
     "text": [
      "How are you today Bla? killing her\n"
     ]
    }
   ],
   "source": [
    "# ask how is the user and append emotion\n",
    "\n",
    "while len(user_sent) == 0:\n",
    "    q1 = input(f\"{question} {user_name}? \").lower()\n",
    "    text = text_preproc(q1)\n",
    "    sentiment_key = model.predict(text)\n",
    "    sentiment = vals_to_replace.get(model.predict(text)[0])\n",
    "    user_sent.append(sentiment)"
   ]
  },
  {
   "cell_type": "code",
   "execution_count": 5,
   "metadata": {},
   "outputs": [
    {
     "name": "stdout",
     "output_type": "stream",
     "text": [
      "So you are feeling sadness? yes\n",
      "Do you want to keep or change your sadness sentiment? keep\n"
     ]
    }
   ],
   "source": [
    "# sentiment confirmation\n",
    "sent_conf = input(f\"So you are feeling {user_sent[0]}? \").lower()\n",
    "while sent_conf not in positive_lst and sent_conf not in negative_lst:\n",
    "    sent_conf = input(f\"Are you feeling {user_sent[0]}? \").lower()\n",
    "        \n",
    "# store sentiment if ML fails\n",
    "if sent_conf in negative_lst:\n",
    "    sent_q = input(\"Then today you are feeling anger, sadness, fear, surprise, joy or love? \").lower()\n",
    "    while sent_q not in sentiment_lst:\n",
    "        sent_q = input(\"Then how are you feeling today? (answer anger, sadness, fear, surprise, joy or love) \").lower()\n",
    "    user_sent[0] = sent_q\n",
    "    \n",
    "# reinforce or change sentiment\n",
    "sent_ch = input(f\"Do you want to keep or change your {user_sent[0]} sentiment? \").lower()\n",
    "while sent_ch != \"change\" and sent_ch != \"keep\":\n",
    "    sent_ch = input(f\"Do you want to keep or change your {user_sent[0]} sentiment? (type keep or change) \").lower()"
   ]
  },
  {
   "cell_type": "code",
   "execution_count": 5,
   "metadata": {},
   "outputs": [
    {
     "name": "stdout",
     "output_type": "stream",
     "text": [
      "Enter-your-token-here········\n",
      "track    :  Darkness\n",
      "artist    : Eminem\n",
      "audio    :  https://open.spotify.com/track/5SiZJoLXp3WOl3J4C8IK0d\n",
      "Glad you choose to change! Visit this website None\n"
     ]
    }
   ],
   "source": [
    "# feed chatbot and get answer according to sentiment\n",
    "if user_sent[0] == \"positive\" and sent_ch == \"keep\":\n",
    "    print(f'I am so happy for u being {user_sent[0]}. Visit this website and go on {recommender(user_sent[0])}')\n",
    "    user_sent2.append(user_sent[0])\n",
    "elif user_sent[0] == \"positive\" and sent_ch == \"change\":\n",
    "    user_sent2.append(\"negative\")\n",
    "    print(f'I am so happy for u being {user_sent[0]} and I do not know why you want to change, but visit this website and go on {recommender(user_sent[0])}')\n",
    "elif user_sent[0] == \"negative\" and sent_ch == \"keep\":\n",
    "    user_sent2.append(user_sent[0])\n",
    "    print(f'For wallowing into your misery visit this website {recommender(user_sent[0])}')      \n",
    "elif user_sent[0] == \"negative\" and sent_ch == \"change\":\n",
    "    user_sent2.append(\"positive\")\n",
    "    print(f'Glad you choose to change! Visit this website {recommender(user_sent[0])}')\n",
    "elif user_sent[0] == \"neutral\":\n",
    "    user_sent2.append(user_sent[0])\n",
    "    print(f'Are you Switzerland {recommender(user_sent[0])} ?')\n",
    "elif user_sent[0] == \"positive\" and sent_ch == \"change\":\n",
    "    user_sent2.append(\"negative\")\n",
    "    print(f'I am so happy for u being {user_sent[0]} and I do not know why you want to change, but visit this website and go on {recommender(user_sent[0])}')\n",
    "elif user_sent[0] == \"negative\" and sent_ch == \"keep\":\n",
    "    user_sent2.append(user_sent[0])\n",
    "    print(f'For wallowing into your misery visit this website {recommender(user_sent[0])}')      \n",
    "elif user_sent[0] == \"negative\" and sent_ch == \"change\":\n",
    "    user_sent2.append(\"positive\")\n",
    "    print(f'Glad you choose to change! Visit this website {recommender(user_sent[0])}')\n",
    "elif user_sent[0] == \"neutral\":\n",
    "    user_sent2.append(user_sent[0])\n",
    "    print(f'Are you Switzerland {recommender(user_sent[0])} ?')\n",
    "elif user_sent[0] == \"positive\" and sent_ch == \"change\":\n",
    "    user_sent2.append(\"negative\")\n",
    "    print(f'I am so happy for u being {user_sent[0]} and I do not know why you want to change, but visit this website and go on {recommender(user_sent[0])}')\n",
    "elif user_sent[0] == \"negative\" and sent_ch == \"keep\":\n",
    "    user_sent2.append(user_sent[0])\n",
    "    print(f'For wallowing into your misery visit this website {recommender(user_sent[0])}')      \n",
    "elif user_sent[0] == \"negative\" and sent_ch == \"change\":\n",
    "    user_sent2.append(\"positive\")\n",
    "    print(f'Glad you choose to change! Visit this website {recommender(user_sent[0])}')"
   ]
  },
  {
   "cell_type": "code",
   "execution_count": 6,
   "metadata": {},
   "outputs": [
    {
     "name": "stdout",
     "output_type": "stream",
     "text": [
      "Did you like it? no\n",
      "Sorry to hear that. May I recommend something different? sucks\n"
     ]
    }
   ],
   "source": [
    "# feedback from recommendations\n",
    "feedback1 = input('Did you like it? ').lower()\n",
    "while feedback1 not in positive_lst and feedback1 not in negative_lst:\n",
    "    feedback1 = input('Come on! Did you like it? ').lower()\n",
    "    \n",
    "# feedback if user want to keep on going with recommendations\n",
    "#if not, end of the program\n",
    "if feedback1 in positive_lst:\n",
    "    feedback2 = input(\"Great! Do you want more tips?\").lower()\n",
    "    while feedback2 not in positive_lst and feedback2 not in negative_lst:\n",
    "        feedback2 = input(\"Do you want more tips? \").lower()\n",
    "elif feedback1 in negative_lst:\n",
    "    feedback2 = input(\"Sorry to hear that. May I recommend something different? \").lower()\n",
    "    while feedback2 not in positive_lst and feedback2 not in negative_lst:\n",
    "        feedback2 = input(\"May I recommend something different? \").lower()"
   ]
  },
  {
   "cell_type": "code",
   "execution_count": 7,
   "metadata": {},
   "outputs": [
    {
     "name": "stdout",
     "output_type": "stream",
     "text": [
      "Ok Alexander. See you later\n"
     ]
    }
   ],
   "source": [
    "# loop for recommending more tips\n",
    "while feedback2 in positive_lst:\n",
    "    print(f\"Visit this website and go on {recommender(user_sent2[0])}\")\n",
    "\n",
    "    \n",
    "    feedback1 = input('Did you like it? ').lower()\n",
    "    while feedback1 not in positive_lst and feedback1 not in negative_lst:\n",
    "        feedback1 = input('Come on! Did you like it? ').lower()\n",
    "    \n",
    "    if feedback1 in positive_lst:\n",
    "        feedback2 = input(\"Great! Do you want more tips?\").lower()\n",
    "        while feedback2 not in positive_lst and feedback2 not in negative_lst:\n",
    "            feedback2 = input(\"Do you want more tips? \").lower()\n",
    "    elif feedback1 in negative_lst:\n",
    "        feedback2 = input(\"So bad...Now I am sad. Eitherway, may I recommend something different? \").lower()\n",
    "        while feedback2 not in positive_lst and feedback2 not in negative_lst:\n",
    "            feedback2 = input(\"Do you want more tips? \").lower()\n",
    "            \n",
    "print(f\"Ok {user_name}. See you later\")"
   ]
  }
 ],
 "metadata": {
  "kernelspec": {
   "display_name": "Python 3",
   "language": "python",
   "name": "python3"
  },
  "language_info": {
   "codemirror_mode": {
    "name": "ipython",
    "version": 3
   },
   "file_extension": ".py",
   "mimetype": "text/x-python",
   "name": "python",
   "nbconvert_exporter": "python",
   "pygments_lexer": "ipython3",
   "version": "3.8.3"
  }
 },
 "nbformat": 4,
 "nbformat_minor": 4
}
