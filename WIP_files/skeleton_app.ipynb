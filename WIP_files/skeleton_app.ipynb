{
 "cells": [
  {
   "cell_type": "markdown",
   "metadata": {},
   "source": [
    "# Libraries"
   ]
  },
  {
   "cell_type": "code",
   "execution_count": 1,
   "metadata": {},
   "outputs": [],
   "source": [
    "import random\n",
    "from Vader import vader\n",
    "import pandas as pd\n",
    "from nltk.sentiment.vader import SentimentIntensityAnalyzer"
   ]
  },
  {
   "cell_type": "markdown",
   "metadata": {},
   "source": [
    "# Lists"
   ]
  },
  {
   "cell_type": "code",
   "execution_count": 2,
   "metadata": {},
   "outputs": [],
   "source": [
    "# greetings list\n",
    "starting_q = [\"Why do you answer that way\", \"How are you today\", \"How is your week going\", \"What have you done today\", \"What word would you choose for today\", \"If I say hey, you say...\", \"Do you want to play a game\", \"What is your plan today\"]\n",
    "question = random.choice(starting_q)\n",
    "\n",
    "# sentiments list\n",
    "positive_lst = ['yes', 'fine', 'good', 'excellent', 'awesome', 'amazing', 'great', 'luz', 'positive']\n",
    "negative_lst = ['no', 'bad', 'worse', 'worst', 'evil', 'devil', 'negative', 'sucks']\n",
    "\n",
    "# recommendations list\n",
    "positive_web = ['https://www.youtube.com/watch?v=RYkIUwPNocs']\n",
    "negative_web = ['https://www.youtube.com/watch?v=FxYw0XPEoKE']\n",
    "neutral_web = ['https://www.youtube.com/watch?v=R1ZJ4GUVnn8', 'https://www.youtube.com/watch?v=VPlRye53lRY']\n",
    "\n",
    "recomm_answ_pos = random.choice(positive_web)\n",
    "recomm_answ_neg = random.choice(negative_web)\n",
    "recomm_answ_neu = random.choice(neutral_web)\n",
    "\n",
    "# user sentiment today\n",
    "user_sent = []\n",
    "sentiment_lst = [\"positive\", \"negative\", \"neutral\"]"
   ]
  },
  {
   "cell_type": "markdown",
   "metadata": {},
   "source": [
    "# Greetings"
   ]
  },
  {
   "cell_type": "code",
   "execution_count": 3,
   "metadata": {},
   "outputs": [
    {
     "name": "stdout",
     "output_type": "stream",
     "text": [
      "Hello, what is your name? bla\n",
      "Hello Bla\n"
     ]
    }
   ],
   "source": [
    "# define username\n",
    "user_name = input(\"Hello, what is your name? \").capitalize()\n",
    "print(f'Hello {user_name}')"
   ]
  },
  {
   "cell_type": "code",
   "execution_count": 4,
   "metadata": {},
   "outputs": [
    {
     "name": "stdout",
     "output_type": "stream",
     "text": [
      "What is your plan today Bla? dope\n",
      "So you are feeling neutral? sure\n",
      "So you are feeling neutral? yes\n",
      "{'neg': 0.0, 'neu': 1.0, 'pos': 0.0, 'compound': 0.0}\n"
     ]
    }
   ],
   "source": [
    "# ask how is the user\n",
    "\n",
    "while len(user_sent) == 0:\n",
    "    q1 = input(f\"{question} {user_name}? \").lower()\n",
    "    sentiment = vader(q1)\n",
    "    if sentiment['pos'] > sentiment['neg']:\n",
    "        user_sent.append(\"positive\") # append list of emotions\n",
    "    elif sentiment['pos'] < sentiment['neg']:\n",
    "        user_sent.append(\"negative\")\n",
    "    else:\n",
    "        user_sent.append(\"neutral\")\n",
    "    \n",
    "# sentiment confirmation\n",
    "sent_conf = input(f\"So you are feeling {user_sent[0]}? \").lower()\n",
    "while sent_conf not in positive_lst and sent_conf not in negative_lst:\n",
    "    sent_conf = input(f\"So you are feeling {user_sent[0]}? \").lower()\n",
    "        \n",
    "# store sentiment if ML fails\n",
    "if sent_conf in negative_lst:\n",
    "    sent_q = input(\"Then today you are feeling positive, negative or neutral? \").lower() # train model with the result\n",
    "    while sent_q not in sentiment_lst:\n",
    "        sent_q = input(\"Then today you are feeling positive, negative or neutral? (answer positive, negative or neutral) \").lower()\n",
    "    user_sent[0] = sent_q\n",
    "    \n",
    "# reinforce or change sentiment\n",
    "if user_sent[0] != \"neutral\":\n",
    "    sent_ch = input(f\"Do you want to keep or change your {user_sent[0]} sentiment? \").lower()\n",
    "    while sent_ch != \"change\" and sent_ch != \"keep\":\n",
    "        sent_ch = input(f\"Do you want to keep or change your {user_sent[0]} sentiment? (type keep or change) \").lower()\n",
    "        \n",
    "print(sentiment)"
   ]
  },
  {
   "cell_type": "code",
   "execution_count": 5,
   "metadata": {},
   "outputs": [
    {
     "name": "stdout",
     "output_type": "stream",
     "text": [
      "Are you Switzerland or https://www.youtube.com/watch?v=R1ZJ4GUVnn8 ?\n"
     ]
    }
   ],
   "source": [
    "# feed chatbot and get answer according to sentiment\n",
    "if user_sent[0] == \"positive\" and sent_ch == \"keep\":\n",
    "    print(f'I am so happy for u being {user_sent[0]}. Visit this website and go on {recomm_answ_pos}')\n",
    "elif user_sent[0] == \"positive\" and sent_ch == \"change\":\n",
    "    print(f'I am so happy for u being {user_sent[0]} and I do not know why you want to change, but visit this website and go on {recomm_answ_neg}')\n",
    "elif user_sent[0] == \"negative\" and sent_ch == \"keep\":\n",
    "    print(f'For wallowing into your misery visit this website {recomm_answ_neg}')      \n",
    "elif user_sent[0] == \"negative\" and sent_ch == \"change\":\n",
    "    print(f'Glad you choose to change! Visit this website {recomm_answ_pos}')\n",
    "elif user_sent[0] == \"neutral\":\n",
    "    print(f'Are you Switzerland or {recomm_answ_neu} ?')"
   ]
  },
  {
   "cell_type": "code",
   "execution_count": 6,
   "metadata": {},
   "outputs": [
    {
     "name": "stdout",
     "output_type": "stream",
     "text": [
      "Did you like it? great\n",
      "Great! Do you want more tips?worst\n"
     ]
    }
   ],
   "source": [
    "# feedback from recommendations\n",
    "feedback1 = input('Did you like it? ').lower()\n",
    "\n",
    "while feedback1 not in positive_lst and feedback1 not in negative_lst:\n",
    "    feedback1 = input('Come on! Did you like it? ').lower()\n",
    "\n",
    "    \n",
    "# feedback if user want to keep on going with recommendations\n",
    "#if not, end of the program\n",
    "if feedback1 in positive_lst:\n",
    "    feedback2 = input(\"Great! Do you want more tips?\").lower()\n",
    "    while feedback2 not in positive_lst and feedback2 not in negative_lst:\n",
    "        feedback2 = input(\"Do you want more tips? \").lower()\n",
    "elif feedback1 in negative_lst:\n",
    "    feedback2 = input(\"Sorry to hear that. May I recommend something different? \").lower()\n",
    "    while feedback2 not in positive_lst and feedback2 not in negative_lst:\n",
    "        feedback2 = input(\"May I recommend something different? \").lower()"
   ]
  },
  {
   "cell_type": "code",
   "execution_count": 7,
   "metadata": {},
   "outputs": [
    {
     "name": "stdout",
     "output_type": "stream",
     "text": [
      "Ok Bla. See you later\n"
     ]
    }
   ],
   "source": [
    "# loop for recommending more tips\n",
    "while feedback2 in positive_lst:\n",
    "    if user_sent[0] == \"positive\":\n",
    "        print(f\"Visit this website and go on {recomm_answ_pos}\")\n",
    "    elif user_sent[0] == \"negative\":\n",
    "        print(f\"Visit this website and go on {recomm_answ_neg}\")\n",
    "    else:\n",
    "        print(f\"Visit this website and go on {recomm_answ_neu}\")\n",
    "    \n",
    "    feedback1 = input('Did you like it? ').lower()\n",
    "    while feedback1 not in positive_lst and feedback1 not in negative_lst:\n",
    "        feedback1 = input('Come on! Did you like it? ').lower()\n",
    "    \n",
    "    if feedback1 in positive_lst:\n",
    "        feedback2 = input(\"Great! Do you want more tips?\").lower()\n",
    "        while feedback2 not in positive_lst and feedback2 not in negative_lst:\n",
    "            feedback2 = input(\"Do you want more tips? \").lower()\n",
    "    elif feedback1 in negative_lst:\n",
    "        feedback2 = input(\"So bad...Now I am sad. Eitherway, may I recommend something different? \").lower()\n",
    "        while feedback2 not in positive_lst and feedback2 not in negative_lst:\n",
    "            feedback2 = input(\"Do you want more tips? \").lower()\n",
    "            \n",
    "print(f\"Ok {user_name}. See you later\")"
   ]
  },
  {
   "cell_type": "code",
   "execution_count": null,
   "metadata": {},
   "outputs": [],
   "source": []
  },
  {
   "cell_type": "code",
   "execution_count": null,
   "metadata": {},
   "outputs": [],
   "source": []
  }
 ],
 "metadata": {
  "kernelspec": {
   "display_name": "Python 3",
   "language": "python",
   "name": "python3"
  },
  "language_info": {
   "codemirror_mode": {
    "name": "ipython",
    "version": 3
   },
   "file_extension": ".py",
   "mimetype": "text/x-python",
   "name": "python",
   "nbconvert_exporter": "python",
   "pygments_lexer": "ipython3",
   "version": "3.8.3"
  }
 },
 "nbformat": 4,
 "nbformat_minor": 4
}
