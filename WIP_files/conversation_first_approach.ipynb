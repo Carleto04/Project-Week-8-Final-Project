{
 "cells": [
  {
   "cell_type": "markdown",
   "metadata": {},
   "source": [
    "# lists"
   ]
  },
  {
   "cell_type": "code",
   "execution_count": 1,
   "metadata": {},
   "outputs": [],
   "source": [
    "# greetings list\n",
    "import random\n",
    "starting_q = [\"Why do you answer that way\", \"How are you today\", \"How is your week going\", \"What have you done today\", \"What word would you choose for today\", \"If I say hey, you say...\", \"Do you want to play a game\", \"What is your plan today\"]\n",
    "question = random.choice(starting_q)\n",
    "\n",
    "# sentiments list\n",
    "positive_lst = ['yes', 'fine', 'good', 'excellent', 'awesome', 'amazing', 'great', 'luz', 'positive']\n",
    "negative_lst = ['no', 'bad', 'worse', 'worst', 'evil', 'devil', 'negative', 'sucks']\n",
    "\n",
    "# recommendations list\n",
    "positive_web = ['https://www.youtube.com/watch?v=RYkIUwPNocs']\n",
    "negative_web = ['https://www.youtube.com/watch?v=FxYw0XPEoKE']\n",
    "recomm_answ_pos = random.choice(positive_web)\n",
    "recomm_answ_neg = random.choice(negative_web)\n",
    "\n",
    "# user sentiment today\n",
    "user_sent = []\n",
    "sentiment_lst = [\"positive\", \"negative\"]"
   ]
  },
  {
   "cell_type": "markdown",
   "metadata": {},
   "source": [
    "# Greetings"
   ]
  },
  {
   "cell_type": "code",
   "execution_count": 2,
   "metadata": {},
   "outputs": [
    {
     "name": "stdout",
     "output_type": "stream",
     "text": [
      "Hello, what is your name? blavo\n",
      "Hello Blavo\n"
     ]
    }
   ],
   "source": [
    "# define username\n",
    "user_name = input(\"Hello, what is your name? \").capitalize()\n",
    "print(f'Hello {user_name}')"
   ]
  },
  {
   "cell_type": "code",
   "execution_count": 3,
   "metadata": {},
   "outputs": [
    {
     "name": "stdout",
     "output_type": "stream",
     "text": [
      "If I say hey, you say... Blavo? bla\n",
      "If I say hey, you say... Blavo? gOOd\n",
      "So you are feeling ['positive']?no\n",
      "Then today you are feeling positive or negative?bla\n",
      "Then today you are feeling positive or negative?bla\n",
      "Then today you are feeling positive or negative?NeGative\n",
      "['negative']\n"
     ]
    }
   ],
   "source": [
    "# ask how is the user\n",
    "\n",
    "while len(user_sent) == 0:\n",
    "    q1 = input(f\"{question} {user_name}? \").lower()\n",
    "    if q1 in positive_lst: \n",
    "        user_sent.append(\"positive\")\n",
    "    elif q1 in negative_lst:\n",
    "        user_sent.append(\"negative\")\n",
    "    \n",
    "# sentiment confirmation\n",
    "count = 0\n",
    "while count == 0:\n",
    "    sent_conf = input(f\"So you are feeling {user_sent}?\").lower()\n",
    "    if sent_conf == \"yes\" or sent_conf == \"no\":\n",
    "        count += 1\n",
    "        \n",
    "# store sentiment if ML fails\n",
    "if sent_conf == \"no\":\n",
    "    sent_q = input(\"Then today you are feeling positive or negative?\").lower()\n",
    "    while sent_q not in sentiment_lst:\n",
    "        sent_q = input(\"Then today you are feeling positive or negative?\").lower()\n",
    "    user_sent[0] = sent_q"
   ]
  },
  {
   "cell_type": "code",
   "execution_count": null,
   "metadata": {},
   "outputs": [],
   "source": [
    "\n"
   ]
  },
  {
   "cell_type": "code",
   "execution_count": 4,
   "metadata": {},
   "outputs": [
    {
     "ename": "IndentationError",
     "evalue": "unexpected indent (<ipython-input-4-242d8a0ee6db>, line 4)",
     "output_type": "error",
     "traceback": [
      "\u001b[1;36m  File \u001b[1;32m\"<ipython-input-4-242d8a0ee6db>\"\u001b[1;36m, line \u001b[1;32m4\u001b[0m\n\u001b[1;33m    sent_ch = input(f\"Do you want to keep or change your {user_sent} sentiment?\").lower()\u001b[0m\n\u001b[1;37m    ^\u001b[0m\n\u001b[1;31mIndentationError\u001b[0m\u001b[1;31m:\u001b[0m unexpected indent\n"
     ]
    }
   ],
   "source": [
    "# reinforce or change sentiment\n",
    "\n",
    "\n",
    "    sent_ch = input(f\"Do you want to keep or change your {user_sent} sentiment?\").lower()\n",
    "    sent_q = input(\"Then today you are feeling positive or negative?\").lower()\n",
    "    alternative_question = input(\"Come on! Tell me the truth!\").lower()\n",
    "    \n",
    "    while sent_conf_p != \"yes\" and sent_conf_p != \"no\" and sent_conf_n != \"yes\" and sent_conf_n != \"no\":\n",
    "        if sent_conf_p == \"yes\":\n",
    "            print(sent_ch)\n",
    "            user_sent.append(\"positive\")\n",
    "            count += 1\n",
    "        elif sent_conf_n == \"yes\":\n",
    "            print(sent_ch)\n",
    "            user_sent.append(\"negative\")\n",
    "            count += 1\n",
    "        elif sent_conf_p == \"no\" or sent_conf_n == \"no\":\n",
    "            print(sent_q)\n",
    "            \n",
    "            \n",
    "            if sent_q in sentiment_lst:\n",
    "                user_sent.append(\"sent_q\")\n",
    "                count += 1\n",
    "            else:\n",
    "                print(alternative_question)  "
   ]
  },
  {
   "cell_type": "code",
   "execution_count": null,
   "metadata": {},
   "outputs": [],
   "source": [
    " \n",
    "        user_sent.append()\n",
    "    print(f\"So you are feeling {sent_q}\")"
   ]
  },
  {
   "cell_type": "code",
   "execution_count": null,
   "metadata": {},
   "outputs": [],
   "source": [
    "# feed chatbot and get answer according to sentiment\n",
    "\n",
    "if q1 in positive:\n",
    "    print(f'I am so happy for u. Visit this website and go on {recomm_answ_pos}') \n",
    "elif q1 in negative:\n",
    "    print(f'Oh, no!. Visit this website {recomm_answ_neg}')\n",
    "else:\n",
    "    print('My happiness is not a light issue')"
   ]
  },
  {
   "cell_type": "code",
   "execution_count": null,
   "metadata": {},
   "outputs": [],
   "source": [
    "# get feedback from recommendation\n",
    "\n",
    "feedback1 = input('Did you like it?').lower()\n",
    "\n",
    "\n",
    "print(feedback1)                  \n",
    "                  \n",
    "if feedback1 == 'yes':\n",
    "    print(f\"Glad you liked it. {feedback2}\")\n",
    "elif feedback1 == 'no':\n",
    "    print(\"Sorry to hear that. May I recommend something different?\")\n",
    "else:\n",
    "    print(feedback1)\n",
    "    \n",
    "feedback2 = input(\"Do you want more tips?\").lower()"
   ]
  },
  {
   "cell_type": "code",
   "execution_count": null,
   "metadata": {},
   "outputs": [],
   "source": []
  },
  {
   "cell_type": "code",
   "execution_count": null,
   "metadata": {},
   "outputs": [],
   "source": []
  },
  {
   "cell_type": "code",
   "execution_count": null,
   "metadata": {},
   "outputs": [],
   "source": []
  },
  {
   "cell_type": "code",
   "execution_count": null,
   "metadata": {},
   "outputs": [],
   "source": []
  },
  {
   "cell_type": "code",
   "execution_count": null,
   "metadata": {},
   "outputs": [],
   "source": []
  },
  {
   "cell_type": "code",
   "execution_count": null,
   "metadata": {},
   "outputs": [],
   "source": []
  },
  {
   "cell_type": "code",
   "execution_count": null,
   "metadata": {},
   "outputs": [],
   "source": []
  },
  {
   "cell_type": "code",
   "execution_count": null,
   "metadata": {},
   "outputs": [],
   "source": []
  },
  {
   "cell_type": "code",
   "execution_count": null,
   "metadata": {},
   "outputs": [],
   "source": []
  },
  {
   "cell_type": "code",
   "execution_count": null,
   "metadata": {},
   "outputs": [],
   "source": []
  }
 ],
 "metadata": {
  "kernelspec": {
   "display_name": "Python 3",
   "language": "python",
   "name": "python3"
  },
  "language_info": {
   "codemirror_mode": {
    "name": "ipython",
    "version": 3
   },
   "file_extension": ".py",
   "mimetype": "text/x-python",
   "name": "python",
   "nbconvert_exporter": "python",
   "pygments_lexer": "ipython3",
   "version": "3.8.3"
  }
 },
 "nbformat": 4,
 "nbformat_minor": 4
}
