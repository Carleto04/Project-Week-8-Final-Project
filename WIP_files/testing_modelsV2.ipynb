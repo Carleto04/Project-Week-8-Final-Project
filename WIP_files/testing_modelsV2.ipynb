{
 "cells": [
  {
   "cell_type": "code",
   "execution_count": 13,
   "metadata": {},
   "outputs": [],
   "source": [
    "import pandas as pd\n",
    "import re\n",
    "import nltk\n",
    "from nltk.corpus import stopwords\n",
    "from nltk.tokenize import word_tokenize\n",
    "from nltk.stem import SnowballStemmer, WordNetLemmatizer\n",
    "from sklearn.model_selection import train_test_split\n",
    "from sklearn.feature_extraction.text import TfidfVectorizer\n",
    "from sklearn.linear_model import LogisticRegression\n",
    "from sklearn.metrics import accuracy_score\n",
    "import pickle"
   ]
  },
  {
   "cell_type": "code",
   "execution_count": 14,
   "metadata": {},
   "outputs": [],
   "source": [
    "# import dataset to train models\n",
    "train = pd.read_csv('../Data/train.txt', sep=';', names=['content', 'sentiment'])\n",
    "\n",
    "test = pd.read_csv('../Data/test.txt', sep=';', names=['content', 'sentiment'])"
   ]
  },
  {
   "cell_type": "code",
   "execution_count": 15,
   "metadata": {},
   "outputs": [
    {
     "name": "stdout",
     "output_type": "stream",
     "text": [
      "<class 'pandas.core.frame.DataFrame'>\n",
      "RangeIndex: 18000 entries, 0 to 17999\n",
      "Data columns (total 2 columns):\n",
      " #   Column     Non-Null Count  Dtype \n",
      "---  ------     --------------  ----- \n",
      " 0   content    18000 non-null  object\n",
      " 1   sentiment  18000 non-null  object\n",
      "dtypes: object(2)\n",
      "memory usage: 140.7+ KB\n"
     ]
    }
   ],
   "source": [
    "data = pd.read_csv('../Data/val.txt', sep=';', names=['content', 'sentiment'])\n",
    "data.info()"
   ]
  },
  {
   "cell_type": "code",
   "execution_count": 16,
   "metadata": {},
   "outputs": [],
   "source": [
    "# assign each sentiment to a numeric value\n",
    "vals_to_replace = {'sadness': 1, 'love': 5, 'anger': 0, 'joy': 4, 'fear': 2, 'surprise': 3}\n",
    "data['sent_num'] = data.sentiment.map(vals_to_replace)"
   ]
  },
  {
   "cell_type": "code",
   "execution_count": 17,
   "metadata": {},
   "outputs": [],
   "source": [
    "def stopword_del(sentence):\n",
    "    stopwords_list = stopwords.words(\"english\")\n",
    "    word_tokens_test = word_tokenize(sentence.lower())\n",
    "    tokens_without_sw = [word for word in word_tokens_test if not word in stopwords_list]\n",
    "    str1 = ' '.join(tokens_without_sw)\n",
    "    return str1"
   ]
  },
  {
   "cell_type": "code",
   "execution_count": 18,
   "metadata": {},
   "outputs": [],
   "source": [
    "# auxiliar function to remove a pattern defined by a regular expression \n",
    "def remove_by_regex(tweet, regexp):\n",
    "        return re.sub(regexp, '', tweet)\n",
    "\n",
    "# 3 specific cleaning functions to remove numbers, url's and special characters\n",
    "def remove_numbers(tweet):\n",
    "    return remove_by_regex(tweet, re.compile(r\"[1234567890]\"))\n",
    "\n",
    "def remove_url(tweet):\n",
    "    return remove_by_regex(tweet, re.compile(r\"http.?://[^\\s]+[\\s]?\"))\n",
    "\n",
    "def remove_special_char(tweet):\n",
    "    return re.sub(r\"[^a-zA-Z0-9 ]\", \"\", tweet) #add space placeholder\n",
    "\n",
    "# general cleaning function to do it all at once\n",
    "def clean_up(tweet):\n",
    "    tweet = remove_numbers(tweet)\n",
    "    tweet = remove_url(tweet)\n",
    "    tweet = remove_special_char(tweet)\n",
    "    return tweet.lower().strip()"
   ]
  },
  {
   "cell_type": "code",
   "execution_count": 42,
   "metadata": {},
   "outputs": [],
   "source": [
    "# remove stopwords\n",
    "data['content'] = data['content'].apply(stopword_del)\n",
    "\n",
    "#apply previously defined functions all at once\n",
    "data[\"content\"] = data[\"content\"].apply(clean_up)\n",
    "\n",
    "#stem the words in the sentences and delete too-large-whitespaces\n",
    "stemmer = SnowballStemmer(\"english\")\n",
    "data[\"content_stemmed\"] = data[\"content\"].apply(stemmer.stem)\n",
    "data[\"content_stemmed\"] = [' '.join(x.split()) for x in data[\"content\"]]\n",
    "\n",
    "#convert the words in sentences to a new dataframe of vectors\n",
    "vectorizer = TfidfVectorizer()\n",
    "content_vect = vectorizer.fit(data.content_stemmed)\n",
    "content_vect_transf = content_vect.transform(data.content_stemmed)\n",
    "vector_df = pd.DataFrame.sparse.from_spmatrix(content_vect_transf.tocoo(), columns = vectorizer.get_feature_names())"
   ]
  },
  {
   "cell_type": "code",
   "execution_count": 51,
   "metadata": {},
   "outputs": [],
   "source": [
    "import pickle\n",
    "text_vectorizer = 'text_vectorizer_model.sav'\n",
    "pickle.dump(content_vect, open(text_vectorizer, 'wb'))"
   ]
  },
  {
   "cell_type": "code",
   "execution_count": 49,
   "metadata": {},
   "outputs": [],
   "source": [
    "df = pd.DataFrame.sparse.from_spmatrix(content_vect.transform(['hello how are you my friend']).tocoo(), columns = vectorizer.get_feature_names())"
   ]
  },
  {
   "cell_type": "code",
   "execution_count": 50,
   "metadata": {},
   "outputs": [
    {
     "data": {
      "text/plain": [
       "0    0.842379\n",
       "Name: hello, dtype: Sparse[float64, 0.0]"
      ]
     },
     "execution_count": 50,
     "metadata": {},
     "output_type": "execute_result"
    }
   ],
   "source": [
    "df.hello"
   ]
  },
  {
   "cell_type": "code",
   "execution_count": 8,
   "metadata": {},
   "outputs": [],
   "source": [
    "#add label to the vectorized dataframe\n",
    "vector_df['sent_num'] = data['sent_num']"
   ]
  },
  {
   "cell_type": "code",
   "execution_count": 9,
   "metadata": {},
   "outputs": [],
   "source": [
    "# create train and test sets to apply in models\n",
    "train_X = vector_df.drop(columns='sent_num')[:16000]\n",
    "train_y = vector_df['sent_num'][:16000]\n",
    "test_X = vector_df.drop(columns='sent_num')[16000:]\n",
    "test_y = vector_df['sent_num'][16000:]"
   ]
  },
  {
   "cell_type": "markdown",
   "metadata": {},
   "source": [
    "# Models predictions"
   ]
  },
  {
   "cell_type": "markdown",
   "metadata": {},
   "source": [
    "### Logistic Regression"
   ]
  },
  {
   "cell_type": "code",
   "execution_count": 11,
   "metadata": {},
   "outputs": [
    {
     "data": {
      "text/plain": [
       "LogisticRegression(max_iter=1000, multi_class='multinomial')"
      ]
     },
     "execution_count": 11,
     "metadata": {},
     "output_type": "execute_result"
    }
   ],
   "source": [
    "model_LogR = LogisticRegression(max_iter = 1000, multi_class=\"multinomial\")\n",
    "model_LogR.fit(train_X, train_y)"
   ]
  },
  {
   "cell_type": "code",
   "execution_count": 12,
   "metadata": {},
   "outputs": [
    {
     "data": {
      "text/plain": [
       "0.9488125"
      ]
     },
     "execution_count": 12,
     "metadata": {},
     "output_type": "execute_result"
    }
   ],
   "source": [
    "model_LogR.score(train_X, train_y)"
   ]
  },
  {
   "cell_type": "code",
   "execution_count": 13,
   "metadata": {},
   "outputs": [
    {
     "data": {
      "text/plain": [
       "0.8605"
      ]
     },
     "execution_count": 13,
     "metadata": {},
     "output_type": "execute_result"
    }
   ],
   "source": [
    "model_LogR.score(test_X, test_y)"
   ]
  },
  {
   "cell_type": "markdown",
   "metadata": {},
   "source": [
    "### SupportVectorMachine"
   ]
  },
  {
   "cell_type": "code",
   "execution_count": 11,
   "metadata": {},
   "outputs": [
    {
     "name": "stderr",
     "output_type": "stream",
     "text": [
      "C:\\Users\\tolay\\AppData\\Local\\Programs\\Python\\Python38-32\\lib\\site-packages\\sklearn\\svm\\_base.py:976: ConvergenceWarning: Liblinear failed to converge, increase the number of iterations.\n",
      "  warnings.warn(\"Liblinear failed to converge, increase \"\n"
     ]
    },
    {
     "data": {
      "text/plain": [
       "LinearSVC(multi_class='crammer_singer')"
      ]
     },
     "execution_count": 11,
     "metadata": {},
     "output_type": "execute_result"
    }
   ],
   "source": [
    "from sklearn.svm import LinearSVC\n",
    "LSVC = LinearSVC(multi_class='crammer_singer')\n",
    "LSVC.fit(train_X, train_y)"
   ]
  },
  {
   "cell_type": "code",
   "execution_count": 15,
   "metadata": {},
   "outputs": [
    {
     "data": {
      "text/plain": [
       "0.98175"
      ]
     },
     "execution_count": 15,
     "metadata": {},
     "output_type": "execute_result"
    }
   ],
   "source": [
    "LSVC.score(train_X, train_y)"
   ]
  },
  {
   "cell_type": "code",
   "execution_count": 16,
   "metadata": {},
   "outputs": [
    {
     "data": {
      "text/plain": [
       "0.8965"
      ]
     },
     "execution_count": 16,
     "metadata": {},
     "output_type": "execute_result"
    }
   ],
   "source": [
    "LSVC.score(test_X, test_y)"
   ]
  },
  {
   "cell_type": "code",
   "execution_count": 12,
   "metadata": {},
   "outputs": [],
   "source": [
    "emotion_detect = 'emotion_detect_model.sav'\n",
    "pickle.dump(LSVC, open(emotion_detect, 'wb'))"
   ]
  },
  {
   "cell_type": "markdown",
   "metadata": {},
   "source": [
    "### Random Forest"
   ]
  },
  {
   "cell_type": "code",
   "execution_count": 17,
   "metadata": {},
   "outputs": [
    {
     "data": {
      "text/plain": [
       "0.9728125"
      ]
     },
     "execution_count": 17,
     "metadata": {},
     "output_type": "execute_result"
    }
   ],
   "source": [
    "from sklearn.ensemble import RandomForestClassifier\n",
    "rfc = RandomForestClassifier(max_depth=200)\n",
    "rfc.fit(train_X, train_y)\n",
    "predictions_rfc = rfc.predict(train_X)\n",
    "accuracy_score(train_y, predictions_rfc)"
   ]
  },
  {
   "cell_type": "code",
   "execution_count": 18,
   "metadata": {},
   "outputs": [
    {
     "data": {
      "text/plain": [
       "0.8705"
      ]
     },
     "execution_count": 18,
     "metadata": {},
     "output_type": "execute_result"
    }
   ],
   "source": [
    "predictions_rfc_test = rfc.predict(test_X)\n",
    "accuracy_score(test_y, predictions_rfc_test)"
   ]
  },
  {
   "cell_type": "code",
   "execution_count": null,
   "metadata": {},
   "outputs": [],
   "source": [
    "pipeline"
   ]
  },
  {
   "cell_type": "code",
   "execution_count": null,
   "metadata": {},
   "outputs": [],
   "source": []
  },
  {
   "cell_type": "code",
   "execution_count": null,
   "metadata": {},
   "outputs": [],
   "source": []
  }
 ],
 "metadata": {
  "kernelspec": {
   "display_name": "Python 3",
   "language": "python",
   "name": "python3"
  },
  "language_info": {
   "codemirror_mode": {
    "name": "ipython",
    "version": 3
   },
   "file_extension": ".py",
   "mimetype": "text/x-python",
   "name": "python",
   "nbconvert_exporter": "python",
   "pygments_lexer": "ipython3",
   "version": "3.8.3"
  }
 },
 "nbformat": 4,
 "nbformat_minor": 4
}
