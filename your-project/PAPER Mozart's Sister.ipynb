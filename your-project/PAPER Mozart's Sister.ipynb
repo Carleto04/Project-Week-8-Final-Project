{
 "cells": [
  {
   "cell_type": "markdown",
   "metadata": {},
   "source": [
    "# Mozart's Sister\n",
    "## A Spotify track recommender based on your mood\n",
    "### By Carles Rosell and Cristina Arias"
   ]
  },
  {
   "cell_type": "markdown",
   "metadata": {},
   "source": [
    "**Introduction**"
   ]
  },
  {
   "cell_type": "markdown",
   "metadata": {},
   "source": [
    "Did you know that Mozart had a sister? Her name was Marianne and she was also a composer. Some say that she served as an inspiration for him to follow his career path (she was the *older* sister). Now, thanks to machine learning, Mozart's Sister can recommend you songs in Spotify based on the emotions she detects you are experiencing from having a short written conversation with you. \n",
    "\n",
    "*Reason why?*\n",
    "<br>Locked up in our apartments during the confinement, we have been made more aware of how environments get emotionally charged. Mozart's Sister can help users feel understood and provide some needed feedback about their mood in a moment when the way to do things is different and we are dealing with new sources of stress."
   ]
  },
  {
   "cell_type": "markdown",
   "metadata": {},
   "source": [
    "**Data**"
   ]
  },
  {
   "cell_type": "markdown",
   "metadata": {},
   "source": [
    "To teach Mozart's Sister how to recognise emotions we have used a dataset with sentences linked to different emotions obtained from the work presented on the paper \"Contextualized Affect Representations for Emotion Recognition\" by Elvis Saravia, Hsien-Chi Toby Liu, Yen-Hao Huang, Junlin Wu, Yi-Shin Chen (https://www.aclweb.org/anthology/D18-1404/).\n",
    "\n",
    "This dataset is constituted by:\n",
    "- 18K sentences that we have splitted in 16K for model training and 2K for model testing. \n",
    "- These sentences are linked to the emotion tags 'love', 'joy', 'surprise', 'sadness', 'fear' and 'anger'.\n",
    "\n",
    "The folder structure is as follows:\n",
    "- Data: Contains the training and test set as well as the spotify data (.txt and .csv).\n",
    "- YourProject: Final_prediction_model (model and accuracy, .ipynb); Text_cleaner (cleaning and vectorization function, .ipynb, .py), Skeleton_appVF (interface, .ipynb, .py), track_recommender (spotify connection function, .ipynb, .py); Emotion_detect_model and Text_vectorizer_model (trained model, .sav);\n",
    "- WIP: others"
   ]
  },
  {
   "cell_type": "markdown",
   "metadata": {},
   "source": [
    "**The model**"
   ]
  },
  {
   "cell_type": "markdown",
   "metadata": {},
   "source": [
    "To train Mozart's Sister we have used a Natural Language Process algorithm called Support Vector Machine (applying multilabel Crammer-Singer, which is a one-vs-rest classification method). This algorithm allows to apply supervised learning methodology. \n",
    "\n",
    "The objective of the Support Vector Machine algorithm is to find a hyperplane in an n-dimensional space (n being the number of features) that distinctly classifies the data points and predicts the appropriate label.\n",
    "\n",
    "To feed the data into the algorithm, we first remove the noise from the sentences. We achieve this by using the regular expressions module to remove unwanted characters like spaces and symbols, as well as stopwords and stemming. \n",
    "\n",
    "We then isolate the words relevant to the emotions through tokenization and translate them into a language that Mozart's Sister can understand through vectorization. What happens in this step is the following:\n",
    "- Each word is turned into a feature \n",
    "- Each sentence is assigned to the different features\n",
    "- Finally, the emotion detection is trained based on the number of occurrences of each feature and its proximity to each emotion depending on the context set by the sentence"
   ]
  },
  {
   "cell_type": "markdown",
   "metadata": {},
   "source": [
    "*Workflow*\n",
    "![image](workflow.png)"
   ]
  },
  {
   "cell_type": "markdown",
   "metadata": {},
   "source": [
    "Once the algorithm is trained, Mozart's Sister is ready to recognise the emotions entered by the user.\n",
    "\n",
    "After asking the user for their name and asking how they feel, Mozart's Sister analyses the input entered by the user and issues a veredict about the emotion recognised. Once the user confirms their emotion, Mozart's Sister connects to the Spotify API (Spotipy) with the instruction and recommends a track that matches that emotion. \n",
    "\n",
    "If the user chooses to change their emotion, Mozart's Sister will adapt accordingly.\n",
    "\n",
    "The track selection is done through the valence metric of Spotipy, which measures the energy of each track and assigns it a value from 0 to 1 (energy being understood as a mix of rhythm, melody, etc.). \n",
    "\n",
    "Mozart's Sister provides her output through a link to the track as well as referencing the details related to it."
   ]
  },
  {
   "cell_type": "markdown",
   "metadata": {},
   "source": [
    "*Example*\n",
    "![image](model_1.png)"
   ]
  },
  {
   "cell_type": "markdown",
   "metadata": {},
   "source": [
    "![image](model_2.png)"
   ]
  },
  {
   "cell_type": "markdown",
   "metadata": {},
   "source": [
    "As a final step, Mozart's Sister asks the user for feedback about the track and, if the user wants to continue, she loops the process to provide further recommendations."
   ]
  },
  {
   "cell_type": "markdown",
   "metadata": {},
   "source": [
    "**Further improvements**"
   ]
  },
  {
   "cell_type": "markdown",
   "metadata": {},
   "source": [
    "- Even when it is unlikely due to the wide spotify selection available, it would be useful to incorporate user's feedback into the algorithm, so that when the user dislikes a recommendation, it is not displayed again.\n",
    "- Creating a chatbot conversation based on NLP.\n",
    "- Improving the emotion prediction capability of Mozart's Sister (currently at 89%). It would also be useful to improve her detection of full usual expressions."
   ]
  },
  {
   "cell_type": "markdown",
   "metadata": {},
   "source": [
    "**We hope you enjoy it!**"
   ]
  }
 ],
 "metadata": {
  "kernelspec": {
   "display_name": "Python 3",
   "language": "python",
   "name": "python3"
  },
  "language_info": {
   "codemirror_mode": {
    "name": "ipython",
    "version": 3
   },
   "file_extension": ".py",
   "mimetype": "text/x-python",
   "name": "python",
   "nbconvert_exporter": "python",
   "pygments_lexer": "ipython3",
   "version": "3.8.3"
  }
 },
 "nbformat": 4,
 "nbformat_minor": 4
}
